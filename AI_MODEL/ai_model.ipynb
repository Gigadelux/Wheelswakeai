{
 "cells": [
  {
   "cell_type": "markdown",
   "metadata": {},
   "source": [
    "## TRAINING AI MODEL FOR WHEELSWAKE"
   ]
  },
  {
   "cell_type": "markdown",
   "metadata": {},
   "source": [
    "This is the ai model trained on the drowsiness dataset on kaggle.\n",
    "The main tool for the neural network is `Tensorflow`, and the model is exported in\n",
    "`tensorflow lite` format"
   ]
  },
  {
   "cell_type": "markdown",
   "metadata": {},
   "source": [
    "starting with setup:"
   ]
  },
  {
   "cell_type": "code",
   "execution_count": null,
   "metadata": {},
   "outputs": [],
   "source": [
    "from tflite_model_maker import model_spec\n",
    "from tflite_model_maker import object_detector\n",
    "import tensorflow as tf\n",
    "spec = model_spec.get('efficientdet_lite2')"
   ]
  },
  {
   "cell_type": "markdown",
   "metadata": {},
   "source": [
    "directory specification:"
   ]
  },
  {
   "cell_type": "code",
   "execution_count": null,
   "metadata": {},
   "outputs": [],
   "source": [
    "\n",
    "traindir = r\"C:\\Users\\mirco\\Documents\\PROGETTI\\wheelsWake\\drowsiness-xml\\train\"\n",
    "valdir = r\"C:\\Users\\mirco\\Documents\\PROGETTI\\wheelsWake\\drowsiness-xml\\valid\"\n",
    "testdir = r\"C:\\Users\\mirco\\Documents\\PROGETTI\\wheelsWake\\drowsiness-xml\\test\""
   ]
  },
  {
   "cell_type": "markdown",
   "metadata": {},
   "source": [
    "Initializing data:"
   ]
  },
  {
   "cell_type": "code",
   "execution_count": null,
   "metadata": {},
   "outputs": [],
   "source": [
    "\n",
    "train_data = object_detector.DataLoader.from_pascal_voc(traindir, traindir,label_map={1:\"neutral\",2:\"microsleep\",3:\"yawning\"})\n",
    "validation_data = object_detector.DataLoader.from_pascal_voc(valdir,valdir,label_map={1:\"neutral\",2:\"microsleep\",3:\"yawning\"})\n",
    "test_data = object_detector.DataLoader.from_pascal_voc(testdir,testdir,label_map={1:\"neutral\",2:\"microsleep\",3 :\"yawning\"})"
   ]
  },
  {
   "cell_type": "code",
   "execution_count": null,
   "metadata": {},
   "outputs": [],
   "source": [
    "\n",
    "model = object_detector.create(train_data, model_spec=spec, batch_size=8, train_whole_model=True, validation_data=validation_data)"
   ]
  },
  {
   "cell_type": "markdown",
   "metadata": {},
   "source": [
    "Evaluating"
   ]
  },
  {
   "cell_type": "code",
   "execution_count": null,
   "metadata": {},
   "outputs": [],
   "source": [
    "\n",
    "model.evaluate(test_data)"
   ]
  },
  {
   "cell_type": "markdown",
   "metadata": {},
   "source": [
    "exporting the model for the app:"
   ]
  },
  {
   "cell_type": "code",
   "execution_count": null,
   "metadata": {},
   "outputs": [],
   "source": [
    "\n",
    "model.export(export_dir='.')"
   ]
  },
  {
   "cell_type": "markdown",
   "metadata": {},
   "source": [
    "Loading the model and 2nd evaluating:"
   ]
  },
  {
   "cell_type": "code",
   "execution_count": null,
   "metadata": {},
   "outputs": [],
   "source": [
    "\n",
    "model.evaluate_tflite('model.tflite', test_data)"
   ]
  }
 ],
 "metadata": {
  "kernelspec": {
   "display_name": "Python 3",
   "language": "python",
   "name": "python3"
  },
  "language_info": {
   "name": "python",
   "version": "3.9.13"
  }
 },
 "nbformat": 4,
 "nbformat_minor": 2
}
